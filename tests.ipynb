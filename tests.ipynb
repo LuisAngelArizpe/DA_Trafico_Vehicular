{
 "cells": [
  {
   "cell_type": "markdown",
   "id": "fb41969d",
   "metadata": {},
   "source": [
    "## Código para generar nuevos nombres de columnas usando expresiones regulares\n",
    "\n",
    "```\n",
    "cols = col_intercensal[:6]\n",
    "cols += [re.search(r\"[a-zA-Z]+_[a-zA-Z]+\",col).group()+\"_\"+\"_\".join(re.findall(r\"\\d{1,2}\",col)) for col in col_intercensal[6:16]]\n",
    "cols += col_intercensal[16:18]\n",
    "replace1 = {col_intercensal[i]:cols[i].lower() for i in range(len(cols))}\n",
    "```"
   ]
  }
 ],
 "metadata": {
  "language_info": {
   "name": "python"
  }
 },
 "nbformat": 4,
 "nbformat_minor": 5
}
